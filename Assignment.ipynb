{
  "nbformat": 4,
  "nbformat_minor": 0,
  "metadata": {
    "colab": {
      "provenance": []
    },
    "kernelspec": {
      "name": "python3",
      "display_name": "Python 3"
    },
    "language_info": {
      "name": "python"
    }
  },
  "cells": [
    {
      "cell_type": "code",
      "execution_count": null,
      "metadata": {
        "colab": {
          "base_uri": "https://localhost:8080/"
        },
        "id": "sRSY9DUUT-tq",
        "outputId": "2d1c2b0e-c2b8-4c15-8596-787d7bc4bea5"
      },
      "outputs": [
        {
          "output_type": "stream",
          "name": "stdout",
          "text": [
            "[('Virat Kohli', 24936), ('Jack Kallis', 25534), ('Ricky Ponting', 27483), ('Sachin Tendulkar', 34357)]\n"
          ]
        }
      ],
      "source": [
        "#Create a python program to sort the given list of tuples based on integer value using a lambda function.\n",
        "#[('Sachin Tendulkar', 34357), ('Ricky Ponting', 27483), ('Jack Kallis', 25534), ('Virat Kohli', 24936)]\n",
        "\n",
        "l=[('Sachin Tendulkar', 34357), ('Ricky Ponting', 27483), ('Jack Kallis', 25534), ('Virat Kohli', 24936)]\n",
        "sorted_list = sorted(l, key=lambda x: x[1])\n",
        "print(sorted_list)"
      ]
    },
    {
      "cell_type": "code",
      "source": [
        "#Write a Python Program to find the squares of all the numbers in the given list of integers using lambda and map functions.\n",
        "#[1, 2, 3, 4, 5, 6, 7, 8, 9, 10]\n",
        "\n",
        "l=[1, 2, 3, 4, 5, 6, 7, 8, 9, 10]\n",
        "list(map(lambda x:x**2, l))"
      ],
      "metadata": {
        "colab": {
          "base_uri": "https://localhost:8080/"
        },
        "id": "sk4TWDD9VlY4",
        "outputId": "c5796c51-7f56-45fd-8fcc-f003c5f2aac4"
      },
      "execution_count": null,
      "outputs": [
        {
          "output_type": "execute_result",
          "data": {
            "text/plain": [
              "[1, 4, 9, 16, 25, 36, 49, 64, 81, 100]"
            ]
          },
          "metadata": {},
          "execution_count": 6
        }
      ]
    },
    {
      "cell_type": "code",
      "source": [
        "#Write a python program to convert the given list of integers into a tuple of strings. Use map and lambda functions\n",
        "#Given String: [1, 2, 3, 4, 5, 6, 7, 8, 9, 10]\n",
        "#Expected output: ('1', '2', '3', '4', '5', '6', '7', '8', '9', '10')\n",
        "\n",
        "l=[1, 2, 3, 4,5, 6, 7, 8, 9, 10]\n",
        "#print(type(l))\n",
        "list(map(lambda tuple(1), l))\n",
        "result_tuple = tuple(map(str, tuple(l)))\n",
        "\n",
        "print(type(tuple_names))\n",
        "print(result_tuple)\n"
      ],
      "metadata": {
        "colab": {
          "base_uri": "https://localhost:8080/",
          "height": 131
        },
        "id": "ME9nUq5DV9E5",
        "outputId": "5cf0fba0-7183-4357-b1d6-c33ba041c898"
      },
      "execution_count": 1,
      "outputs": [
        {
          "output_type": "error",
          "ename": "SyntaxError",
          "evalue": "ignored",
          "traceback": [
            "\u001b[0;36m  File \u001b[0;32m\"<ipython-input-1-09e1631229e7>\"\u001b[0;36m, line \u001b[0;32m7\u001b[0m\n\u001b[0;31m    list(map(lambda tuple(1), l))\u001b[0m\n\u001b[0m                         ^\u001b[0m\n\u001b[0;31mSyntaxError\u001b[0m\u001b[0;31m:\u001b[0m invalid syntax\n"
          ]
        }
      ]
    },
    {
      "cell_type": "code",
      "source": [
        "#Write a python program using reduce function to compute the product of a list containing numbers from 1 to 25.\n",
        "\n",
        "from functools import reduce\n",
        "l=range(1,25)\n",
        "reduce(lambda x,y: x*y, l)"
      ],
      "metadata": {
        "colab": {
          "base_uri": "https://localhost:8080/"
        },
        "id": "nXr-qGphXBsU",
        "outputId": "ea7bcd1f-1d65-4d3e-eae0-d0f53a929952"
      },
      "execution_count": null,
      "outputs": [
        {
          "output_type": "execute_result",
          "data": {
            "text/plain": [
              "620448401733239439360000"
            ]
          },
          "metadata": {},
          "execution_count": 13
        }
      ]
    },
    {
      "cell_type": "code",
      "source": [
        "#Write a python program to filter the numbers in a given list that are divisible by 2 and 3 using the filter function.\n",
        "#[2, 3, 6, 9, 27, 60, 90, 120, 55, 46]\n",
        "\n",
        "l=[2, 3, 6, 9, 27, 60, 90, 120, 55, 46]\n",
        "list(filter(lambda x: x%2==0 and x%3==0, l))"
      ],
      "metadata": {
        "colab": {
          "base_uri": "https://localhost:8080/"
        },
        "id": "BnZu0X80Yd5v",
        "outputId": "bd61115a-a41f-448f-b4f3-812f948cc390"
      },
      "execution_count": null,
      "outputs": [
        {
          "output_type": "execute_result",
          "data": {
            "text/plain": [
              "[6, 60, 90, 120]"
            ]
          },
          "metadata": {},
          "execution_count": 14
        }
      ]
    },
    {
      "cell_type": "code",
      "source": [
        "#Write a python program to find palindromes in the given list of strings using lambda and filter function.\n",
        "#['python', 'php', 'aba', 'radar', 'level']\n",
        "\n",
        "l=['python', 'php', 'aba', 'radar', 'aditi']\n",
        "list(filter(lambda x: x== x[::-1], l))"
      ],
      "metadata": {
        "colab": {
          "base_uri": "https://localhost:8080/"
        },
        "id": "4N__HiPyY0mn",
        "outputId": "fa9b58b3-aa7f-4e6f-ef3c-531b7f4af834"
      },
      "execution_count": null,
      "outputs": [
        {
          "output_type": "execute_result",
          "data": {
            "text/plain": [
              "['php', 'aba', 'radar']"
            ]
          },
          "metadata": {},
          "execution_count": 19
        }
      ]
    }
  ]
}